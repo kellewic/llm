{
 "cells": [
  {
   "cell_type": "markdown",
   "id": "acc2cede-19f2-4602-8fe2-963cb62f20e1",
   "metadata": {},
   "source": [
    "## Tokenizers"
   ]
  },
  {
   "cell_type": "code",
   "execution_count": 1,
   "id": "14802323-87d7-4273-95c7-2c333471c4c4",
   "metadata": {},
   "outputs": [
    {
     "data": {
      "application/vnd.jupyter.widget-view+json": {
       "model_id": "e3a763a2693941dfaf9fc0443c115b7d",
       "version_major": 2,
       "version_minor": 0
      },
      "text/plain": [
       "tokenizer_config.json:   0%|          | 0.00/26.0 [00:00<?, ?B/s]"
      ]
     },
     "metadata": {},
     "output_type": "display_data"
    },
    {
     "data": {
      "application/vnd.jupyter.widget-view+json": {
       "model_id": "68bec7b693cc4b419b1670df72eb341b",
       "version_major": 2,
       "version_minor": 0
      },
      "text/plain": [
       "config.json: 0.00B [00:00, ?B/s]"
      ]
     },
     "metadata": {},
     "output_type": "display_data"
    },
    {
     "data": {
      "application/vnd.jupyter.widget-view+json": {
       "model_id": "cd549ba1587e477b8c7a12a9ad7ed110",
       "version_major": 2,
       "version_minor": 0
      },
      "text/plain": [
       "vocab.json: 0.00B [00:00, ?B/s]"
      ]
     },
     "metadata": {},
     "output_type": "display_data"
    },
    {
     "data": {
      "application/vnd.jupyter.widget-view+json": {
       "model_id": "2582496b169c433abbaba328d96b1401",
       "version_major": 2,
       "version_minor": 0
      },
      "text/plain": [
       "merges.txt: 0.00B [00:00, ?B/s]"
      ]
     },
     "metadata": {},
     "output_type": "display_data"
    }
   ],
   "source": [
    "from transformers import AutoTokenizer\n",
    "tokenizer = AutoTokenizer.from_pretrained(\"sshleifer/distilbart-cnn-12-6\")"
   ]
  },
  {
   "cell_type": "code",
   "execution_count": 2,
   "id": "d302b04c-ebf9-4134-b2fe-eaa270adb72d",
   "metadata": {},
   "outputs": [
    {
     "name": "stdout",
     "output_type": "stream",
     "text": [
      "{'input_ids': tensor([[   0,  100,  657, 1844, 2239,  328,    2,    1],\n",
      "        [   0,  100, 4157,   42,   98,  203,  328,    2]]), 'attention_mask': tensor([[1, 1, 1, 1, 1, 1, 1, 0],\n",
      "        [1, 1, 1, 1, 1, 1, 1, 1]])}\n"
     ]
    }
   ],
   "source": [
    "raw_inputs = [\n",
    "    \"I love deep learning!\",\n",
    "    \"I hate this so much!\"\n",
    "]\n",
    "inputs = tokenizer(raw_inputs, padding=True, truncation=True, return_tensors=\"pt\")\n",
    "print(inputs)"
   ]
  },
  {
   "cell_type": "code",
   "execution_count": 3,
   "id": "492be0b0-e083-477f-a0fa-f7c1465537be",
   "metadata": {},
   "outputs": [
    {
     "name": "stdout",
     "output_type": "stream",
     "text": [
      "Tokenizer output for 'I love deep learning!'\n",
      "Input ids: tensor([   0,  100,  657, 1844, 2239,  328,    2,    1])\n",
      "Attention Mask: tensor([1, 1, 1, 1, 1, 1, 1, 0])\n",
      "----------------------------------------------------------------------------------------------------\n",
      "Tokenizer output for 'I hate this so much!'\n",
      "Input ids: tensor([   0,  100, 4157,   42,   98,  203,  328,    2])\n",
      "Attention Mask: tensor([1, 1, 1, 1, 1, 1, 1, 1])\n"
     ]
    }
   ],
   "source": [
    "print(\"Tokenizer output for 'I love deep learning!'\")\n",
    "print(f\"Input ids: {inputs['input_ids'][0]}\")\n",
    "print(f\"Attention Mask: {inputs['attention_mask'][0]}\")\n",
    "print(\"-\" * 100)\n",
    "\n",
    "print(\"Tokenizer output for 'I hate this so much!'\")\n",
    "print(f\"Input ids: {inputs['input_ids'][1]}\")\n",
    "print(f\"Attention Mask: {inputs['attention_mask'][1]}\")"
   ]
  },
  {
   "cell_type": "code",
   "execution_count": 8,
   "id": "db3bdfef-775c-40e9-945e-270a937ea6e2",
   "metadata": {},
   "outputs": [
    {
     "data": {
      "text/plain": [
       "{'input_ids': [0, 100, 657, 1844, 2239, 328, 2], 'attention_mask': [1, 1, 1, 1, 1, 1, 1]}"
      ]
     },
     "execution_count": 8,
     "metadata": {},
     "output_type": "execute_result"
    }
   ],
   "source": [
    "tokenizer(\"I love deep learning!\")"
   ]
  },
  {
   "cell_type": "markdown",
   "id": "80b108e1-7faa-4f24-a67c-b28d1abf7b02",
   "metadata": {},
   "source": [
    "### Peeking under the hood"
   ]
  },
  {
   "cell_type": "code",
   "execution_count": 6,
   "id": "633d377e-cbc0-41e1-a381-b97abdbfd5ec",
   "metadata": {},
   "outputs": [
    {
     "data": {
      "text/plain": [
       "['I', 'Ġlove', 'Ġdeep', 'Ġlearning', '!']"
      ]
     },
     "execution_count": 6,
     "metadata": {},
     "output_type": "execute_result"
    }
   ],
   "source": [
    "tokens = tokenizer.tokenize(\"I love deep learning!\")\n",
    "tokens"
   ]
  },
  {
   "cell_type": "code",
   "execution_count": 7,
   "id": "a6d6c1c6-8f6f-4b93-af1d-38dc864aa4a1",
   "metadata": {},
   "outputs": [
    {
     "data": {
      "text/plain": [
       "[100, 657, 1844, 2239, 328]"
      ]
     },
     "execution_count": 7,
     "metadata": {},
     "output_type": "execute_result"
    }
   ],
   "source": [
    "token_ids = tokenizer.convert_tokens_to_ids(tokens)\n",
    "token_ids"
   ]
  },
  {
   "cell_type": "code",
   "execution_count": 10,
   "id": "0a7e3313-66a8-4e43-beb9-7ed0099ff16f",
   "metadata": {},
   "outputs": [
    {
     "data": {
      "text/plain": [
       "'I love deep learning!'"
      ]
     },
     "execution_count": 10,
     "metadata": {},
     "output_type": "execute_result"
    }
   ],
   "source": [
    "decoded_tokens = tokenizer.decode(token_ids)\n",
    "decoded_tokens"
   ]
  },
  {
   "cell_type": "code",
   "execution_count": 11,
   "id": "d28375bd-a12c-4e2b-8c59-8af0e1fb7646",
   "metadata": {},
   "outputs": [
    {
     "name": "stderr",
     "output_type": "stream",
     "text": [
      "You're using a BartTokenizerFast tokenizer. Please note that with a fast tokenizer, using the `__call__` method is faster than using a method to encode the text followed by a call to the `pad` method to get a padded encoding.\n"
     ]
    },
    {
     "data": {
      "text/plain": [
       "{'input_ids': [0, 100, 657, 1844, 2239, 328, 2], 'attention_mask': [1, 1, 1, 1, 1, 1, 1]}"
      ]
     },
     "execution_count": 11,
     "metadata": {},
     "output_type": "execute_result"
    }
   ],
   "source": [
    "model_prepped_ids = tokenizer.prepare_for_model(token_ids)\n",
    "model_prepped_ids"
   ]
  }
 ],
 "metadata": {
  "kernelspec": {
   "display_name": "Python 3 (ipykernel)",
   "language": "python",
   "name": "python3"
  },
  "language_info": {
   "codemirror_mode": {
    "name": "ipython",
    "version": 3
   },
   "file_extension": ".py",
   "mimetype": "text/x-python",
   "name": "python",
   "nbconvert_exporter": "python",
   "pygments_lexer": "ipython3",
   "version": "3.12.11"
  }
 },
 "nbformat": 4,
 "nbformat_minor": 5
}
