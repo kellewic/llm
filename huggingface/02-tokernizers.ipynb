{
 "cells": [
  {
   "cell_type": "markdown",
   "id": "acc2cede-19f2-4602-8fe2-963cb62f20e1",
   "metadata": {},
   "source": [
    "## Tokenizers"
   ]
  },
  {
   "cell_type": "code",
   "execution_count": null,
   "id": "14802323-87d7-4273-95c7-2c333471c4c4",
   "metadata": {},
   "outputs": [],
   "source": [
    "from transformers import AutoTokenizer\n",
    "tokenizer = AutoTokenizer.from_pretrained(\"sshleifer/distilbart-cnn-12-6\")"
   ]
  },
  {
   "cell_type": "code",
   "execution_count": null,
   "id": "d302b04c-ebf9-4134-b2fe-eaa270adb72d",
   "metadata": {},
   "outputs": [],
   "source": [
    "raw_inputs = [\n",
    "    \"I love deep learning!\",\n",
    "    \"I hate this so much!\"\n",
    "]\n",
    "inputs = tokenizer(raw_inputs, padding=True, truncation=True, return_tensors=\"pt\")\n",
    "print(inputs)"
   ]
  },
  {
   "cell_type": "code",
   "execution_count": null,
   "id": "492be0b0-e083-477f-a0fa-f7c1465537be",
   "metadata": {},
   "outputs": [],
   "source": [
    "print(\"Tokenizer output for 'I love deep learning!'\")\n",
    "print(f\"Input ids: {inputs['input_ids'][0]}\")\n",
    "print(f\"Attention Mask: {inputs['attention_mask'][0]}\")\n",
    "print(\"-\" * 100)\n",
    "\n",
    "print(\"Tokenizer output for 'I hate this so much!'\")\n",
    "print(f\"Input ids: {inputs['input_ids'][1]}\")\n",
    "print(f\"Attention Mask: {inputs['attention_mask'][1]}\")"
   ]
  },
  {
   "cell_type": "code",
   "execution_count": null,
   "id": "db3bdfef-775c-40e9-945e-270a937ea6e2",
   "metadata": {},
   "outputs": [],
   "source": [
    "tokenizer(\"I love deep learning!\")"
   ]
  },
  {
   "cell_type": "markdown",
   "id": "80b108e1-7faa-4f24-a67c-b28d1abf7b02",
   "metadata": {},
   "source": [
    "### Peeking under the hood"
   ]
  },
  {
   "cell_type": "code",
   "execution_count": null,
   "id": "633d377e-cbc0-41e1-a381-b97abdbfd5ec",
   "metadata": {},
   "outputs": [],
   "source": [
    "tokens = tokenizer.tokenize(\"I love deep learning!\")\n",
    "tokens"
   ]
  },
  {
   "cell_type": "code",
   "execution_count": null,
   "id": "a6d6c1c6-8f6f-4b93-af1d-38dc864aa4a1",
   "metadata": {},
   "outputs": [],
   "source": [
    "token_ids = tokenizer.convert_tokens_to_ids(tokens)\n",
    "token_ids"
   ]
  },
  {
   "cell_type": "code",
   "execution_count": null,
   "id": "0a7e3313-66a8-4e43-beb9-7ed0099ff16f",
   "metadata": {},
   "outputs": [],
   "source": [
    "decoded_tokens = tokenizer.decode(token_ids)\n",
    "decoded_tokens"
   ]
  },
  {
   "cell_type": "code",
   "execution_count": null,
   "id": "d28375bd-a12c-4e2b-8c59-8af0e1fb7646",
   "metadata": {},
   "outputs": [],
   "source": [
    "model_prepped_ids = tokenizer.prepare_for_model(token_ids)\n",
    "model_prepped_ids"
   ]
  }
 ],
 "metadata": {
  "kernelspec": {
   "display_name": "Python 3 (ipykernel)",
   "language": "python",
   "name": "python3"
  },
  "language_info": {
   "codemirror_mode": {
    "name": "ipython",
    "version": 3
   },
   "file_extension": ".py",
   "mimetype": "text/x-python",
   "name": "python",
   "nbconvert_exporter": "python",
   "pygments_lexer": "ipython3",
   "version": "3.12.11"
  }
 },
 "nbformat": 4,
 "nbformat_minor": 5
}
