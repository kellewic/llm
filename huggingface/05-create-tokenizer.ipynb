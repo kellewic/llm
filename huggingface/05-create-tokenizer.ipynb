{
 "cells": [
  {
   "cell_type": "markdown",
   "id": "39d5045a-cc31-4b87-933d-17894e50291a",
   "metadata": {},
   "source": [
    "## Creating a Tokenizer"
   ]
  },
  {
   "cell_type": "code",
   "execution_count": null,
   "id": "2088a2be-cef8-4a86-94c8-1c51b821ca1c",
   "metadata": {},
   "outputs": [],
   "source": [
    "from datasets import load_dataset\n",
    "\n",
    "dataset = load_dataset(\"shayharding/reuters-articles\")\n",
    "dataset"
   ]
  },
  {
   "cell_type": "code",
   "execution_count": null,
   "id": "72f74db1-4804-4056-8233-7830c0ed9192",
   "metadata": {},
   "outputs": [],
   "source": [
    "def create_full_article_column(article):\n",
    "    return {'full_article': f\"TITLE:{article['title']}\\n\\nBODY:{article['body']}\"}\n",
    "\n",
    "dataset = dataset.map(create_full_article_column)\n",
    "dataset"
   ]
  },
  {
   "cell_type": "code",
   "execution_count": null,
   "id": "ed7cb288-b63b-488e-b3c0-a793382de6d2",
   "metadata": {},
   "outputs": [],
   "source": [
    "dataset['train'][0]['full_article']"
   ]
  },
  {
   "cell_type": "markdown",
   "id": "fa4fed4b-be25-451a-8296-4109ccb1b431",
   "metadata": {},
   "source": [
    "### Training our Tokenizer"
   ]
  },
  {
   "cell_type": "code",
   "execution_count": null,
   "id": "d17397a0-be29-4f46-848d-e62983631123",
   "metadata": {},
   "outputs": [],
   "source": [
    "## Create batched dataset for training as a generator\n",
    "training_corpus = (\n",
    "    dataset['train'][i : i + 1000]['full_article'] for i in range(0, len(dataset['train']), 1000)\n",
    ")"
   ]
  },
  {
   "cell_type": "code",
   "execution_count": null,
   "id": "b4ce05f3-7868-4b95-81d6-ca54c1aeec02",
   "metadata": {},
   "outputs": [],
   "source": [
    "from transformers import AutoTokenizer\n",
    "\n",
    "## Create the original and new tokenizer so we can see the differences\n",
    "old_tokenizer = AutoTokenizer.from_pretrained(\"gpt2\")\n",
    "tokenizer = old_tokenizer.train_new_from_iterator(training_corpus, 52000)\n",
    "\n",
    "## Use the same example for both\n",
    "example = dataset['test'][2]['full_article']\n",
    "example"
   ]
  },
  {
   "cell_type": "code",
   "execution_count": null,
   "id": "6c9a0835-0fa7-41b0-8b48-8f8460c852bc",
   "metadata": {},
   "outputs": [],
   "source": [
    "## Let's see how the original tokenized the example\n",
    "old_tokenizer.tokenize(example)"
   ]
  },
  {
   "cell_type": "code",
   "execution_count": null,
   "id": "20aafb05-e958-4a52-acb8-7f40648e8b0a",
   "metadata": {},
   "outputs": [],
   "source": [
    "## Let's see how the new tokenizes the same example\n",
    "tokenizer.tokenize(example)"
   ]
  },
  {
   "cell_type": "code",
   "execution_count": null,
   "id": "7192b004-9e65-41b4-8de6-5f5c8f79115c",
   "metadata": {},
   "outputs": [],
   "source": [
    "## Save to Hugging Face\n",
    "from huggingface_hub import notebook_login\n",
    "notebook_login()"
   ]
  },
  {
   "cell_type": "code",
   "execution_count": null,
   "id": "1b64ac99-6b75-41ed-90f5-303ddadfdab0",
   "metadata": {},
   "outputs": [],
   "source": [
    "tokenizer.push_to_hub(\"gpt2-reuters-tokenizer\", private=True)"
   ]
  }
 ],
 "metadata": {
  "kernelspec": {
   "display_name": "Python 3 (ipykernel)",
   "language": "python",
   "name": "python3"
  },
  "language_info": {
   "codemirror_mode": {
    "name": "ipython",
    "version": 3
   },
   "file_extension": ".py",
   "mimetype": "text/x-python",
   "name": "python",
   "nbconvert_exporter": "python",
   "pygments_lexer": "ipython3",
   "version": "3.12.11"
  }
 },
 "nbformat": 4,
 "nbformat_minor": 5
}
