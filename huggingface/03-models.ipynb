{
 "cells": [
  {
   "cell_type": "markdown",
   "id": "699cc861-873c-4d20-ab18-e917b9f4edbd",
   "metadata": {},
   "source": [
    "## Models"
   ]
  },
  {
   "cell_type": "markdown",
   "id": "018c6eb5-3391-4b5c-b74e-31b358da0fa8",
   "metadata": {},
   "source": [
    "### Pipeline"
   ]
  },
  {
   "cell_type": "code",
   "execution_count": null,
   "id": "c9dd8cd5-3b69-4e95-8a20-478d83b331ae",
   "metadata": {},
   "outputs": [],
   "source": [
    "from transformers import pipeline\n",
    "classifier = pipeline(\"sentiment-analysis\", model=\"distilbert/distilbert-base-uncased-finetuned-sst-2-english\")\n",
    "classifier([\"I love deep learning!\", \"I hate this so much!\", \"I'm not sure\"])"
   ]
  },
  {
   "cell_type": "code",
   "execution_count": null,
   "id": "5caa0301-92a5-485b-a418-00ce8bac2f98",
   "metadata": {},
   "outputs": [],
   "source": [
    "from transformers import AutoTokenizer\n",
    "\n",
    "MODEL=\"gpt2\"\n",
    "tokenizer = AutoTokenizer.from_pretrained(MODEL)\n",
    "\n",
    "text_generator = pipeline(\"text-generation\", model=MODEL, max_new_tokens=40, pad_token_id=tokenizer.eos_token_id)\n",
    "text_generator([\n",
    "    \"I went to the store to buy\",\n",
    "    \"When two objects in space get close to each other\"\n",
    "])"
   ]
  },
  {
   "cell_type": "code",
   "execution_count": null,
   "id": "9a90c0c4-3683-4edb-903a-60914dc9aa6a",
   "metadata": {},
   "outputs": [],
   "source": [
    "summarizer = pipeline(\"summarization\", model=\"sshleifer/distilbart-cnn-12-6\")\n",
    "summarizer([\n",
    "    \"In mathematics, the Fibonacci sequence is a sequence in which each element is the sum of the two \"\n",
    "    \"elements that precede it. Numbers that are part of the Fibonacci sequence are known as Fibonacci \"\n",
    "    \"numbers, commonly denoted Fn . Many writers begin the sequence with 0 and 1, although some authors \"\n",
    "    \"start it from 1 and 1 and some (as did Fibonacci) from 1 and 2. The Fibonacci numbers were first \"\n",
    "    \"described in Indian mathematics as early as 200 BC in work by Pingala on enumerating possible patterns \"\n",
    "    \"of Sanskrit poetry formed from syllables of two lengths. They are named after the Italian mathematician \"\n",
    "    \"Leonardo of Pisa, also known as Fibonacci, who introduced the sequence to Western European mathematics in \"\n",
    "    \"his 1202 book Liber Abaci.\"])"
   ]
  },
  {
   "cell_type": "markdown",
   "id": "5cbf7aa4-a20d-42fc-b9e3-4046eaba33c6",
   "metadata": {},
   "source": [
    "**Let's check out the configs for gpt2 model**"
   ]
  },
  {
   "cell_type": "code",
   "execution_count": null,
   "id": "f9bd55a4-3c32-4b19-80db-7b8d9f6502b5",
   "metadata": {},
   "outputs": [],
   "source": [
    "from transformers import GPT2Config\n",
    "config = GPT2Config()\n",
    "config"
   ]
  },
  {
   "cell_type": "code",
   "execution_count": null,
   "id": "f52f41dd-e569-4573-b293-e5bf6de77aa5",
   "metadata": {},
   "outputs": [],
   "source": [
    "# Build a new model from the config\n",
    "from transformers import GPT2Model\n",
    "gpt_model = GPT2Model(config)"
   ]
  },
  {
   "cell_type": "code",
   "execution_count": null,
   "id": "cd71c074-f641-4219-bde6-23d794d80e3b",
   "metadata": {},
   "outputs": [],
   "source": [
    "# Save the new model\n",
    "gpt_model.save_pretrained(\"gpt2-model\")"
   ]
  }
 ],
 "metadata": {
  "kernelspec": {
   "display_name": "Python 3 (ipykernel)",
   "language": "python",
   "name": "python3"
  },
  "language_info": {
   "codemirror_mode": {
    "name": "ipython",
    "version": 3
   },
   "file_extension": ".py",
   "mimetype": "text/x-python",
   "name": "python",
   "nbconvert_exporter": "python",
   "pygments_lexer": "ipython3",
   "version": "3.12.11"
  }
 },
 "nbformat": 4,
 "nbformat_minor": 5
}
