{
 "cells": [
  {
   "cell_type": "markdown",
   "id": "edce2099-f290-4c2f-beb2-00cd0a360c4a",
   "metadata": {},
   "source": [
    "## Datasets"
   ]
  },
  {
   "cell_type": "markdown",
   "id": "bb154c0a-68f7-4d8d-92e0-200521af33dc",
   "metadata": {},
   "source": [
    "### Load from Hugging Face"
   ]
  },
  {
   "cell_type": "code",
   "execution_count": 1,
   "id": "3917a33c-fcb8-4d81-ae0c-93fbd96996c4",
   "metadata": {},
   "outputs": [
    {
     "data": {
      "application/vnd.jupyter.widget-view+json": {
       "model_id": "2db8293dd5954f479c24a4fdb6a1cabf",
       "version_major": 2,
       "version_minor": 0
      },
      "text/plain": [
       "README.md:   0%|          | 0.00/339 [00:00<?, ?B/s]"
      ]
     },
     "metadata": {},
     "output_type": "display_data"
    },
    {
     "data": {
      "application/vnd.jupyter.widget-view+json": {
       "model_id": "6071ba4ff7e04028accb6ce2bc214fe1",
       "version_major": 2,
       "version_minor": 0
      },
      "text/plain": [
       "prompts.csv: 0.00B [00:00, ?B/s]"
      ]
     },
     "metadata": {},
     "output_type": "display_data"
    },
    {
     "data": {
      "application/vnd.jupyter.widget-view+json": {
       "model_id": "c2f9c14d04ad468f96a902e576f9c877",
       "version_major": 2,
       "version_minor": 0
      },
      "text/plain": [
       "Generating train split:   0%|          | 0/203 [00:00<?, ? examples/s]"
      ]
     },
     "metadata": {},
     "output_type": "display_data"
    },
    {
     "data": {
      "text/plain": [
       "DatasetDict({\n",
       "    train: Dataset({\n",
       "        features: ['act', 'prompt'],\n",
       "        num_rows: 203\n",
       "    })\n",
       "})"
      ]
     },
     "execution_count": 1,
     "metadata": {},
     "output_type": "execute_result"
    }
   ],
   "source": [
    "from datasets import load_dataset\n",
    "\n",
    "dataset = load_dataset(\"fka/awesome-chatgpt-prompts\")\n",
    "dataset"
   ]
  },
  {
   "cell_type": "markdown",
   "id": "d6962f1f-eb16-491d-b611-979553cfd77c",
   "metadata": {},
   "source": [
    "> The above dataset only has a `train` dataset. Let's look at another one that has `train`, `validation`, and `test` datasets."
   ]
  },
  {
   "cell_type": "code",
   "execution_count": 3,
   "id": "1316934f-fe31-44b5-8910-b8f1f8742162",
   "metadata": {
    "collapsed": true,
    "jupyter": {
     "outputs_hidden": true
    },
    "scrolled": true
   },
   "outputs": [
    {
     "data": {
      "application/vnd.jupyter.widget-view+json": {
       "model_id": "dcea75204fe44178879f10fec5a34916",
       "version_major": 2,
       "version_minor": 0
      },
      "text/plain": [
       "README.md: 0.00B [00:00, ?B/s]"
      ]
     },
     "metadata": {},
     "output_type": "display_data"
    },
    {
     "data": {
      "application/vnd.jupyter.widget-view+json": {
       "model_id": "b90cee5ba0f247ca874450073d3bfed5",
       "version_major": 2,
       "version_minor": 0
      },
      "text/plain": [
       "train.csv: 0.00B [00:00, ?B/s]"
      ]
     },
     "metadata": {},
     "output_type": "display_data"
    },
    {
     "data": {
      "application/vnd.jupyter.widget-view+json": {
       "model_id": "50b687e6a68c4e2ab3188c5d682601a4",
       "version_major": 2,
       "version_minor": 0
      },
      "text/plain": [
       "validation.csv: 0.00B [00:00, ?B/s]"
      ]
     },
     "metadata": {},
     "output_type": "display_data"
    },
    {
     "data": {
      "application/vnd.jupyter.widget-view+json": {
       "model_id": "0157faa94a3344dd86b12cfaef904c4a",
       "version_major": 2,
       "version_minor": 0
      },
      "text/plain": [
       "test.csv: 0.00B [00:00, ?B/s]"
      ]
     },
     "metadata": {},
     "output_type": "display_data"
    },
    {
     "data": {
      "application/vnd.jupyter.widget-view+json": {
       "model_id": "c22639fcc3414e409f77b6d0851836c4",
       "version_major": 2,
       "version_minor": 0
      },
      "text/plain": [
       "Generating train split:   0%|          | 0/14732 [00:00<?, ? examples/s]"
      ]
     },
     "metadata": {},
     "output_type": "display_data"
    },
    {
     "data": {
      "application/vnd.jupyter.widget-view+json": {
       "model_id": "d98f243ac4a6427eb037cadf4c56444d",
       "version_major": 2,
       "version_minor": 0
      },
      "text/plain": [
       "Generating validation split:   0%|          | 0/818 [00:00<?, ? examples/s]"
      ]
     },
     "metadata": {},
     "output_type": "display_data"
    },
    {
     "data": {
      "application/vnd.jupyter.widget-view+json": {
       "model_id": "bf77f99e36f14604a1273609ec70e079",
       "version_major": 2,
       "version_minor": 0
      },
      "text/plain": [
       "Generating test split:   0%|          | 0/819 [00:00<?, ? examples/s]"
      ]
     },
     "metadata": {},
     "output_type": "display_data"
    },
    {
     "data": {
      "text/plain": [
       "DatasetDict({\n",
       "    train: Dataset({\n",
       "        features: ['id', 'dialogue', 'summary'],\n",
       "        num_rows: 14732\n",
       "    })\n",
       "    validation: Dataset({\n",
       "        features: ['id', 'dialogue', 'summary'],\n",
       "        num_rows: 818\n",
       "    })\n",
       "    test: Dataset({\n",
       "        features: ['id', 'dialogue', 'summary'],\n",
       "        num_rows: 819\n",
       "    })\n",
       "})"
      ]
     },
     "execution_count": 3,
     "metadata": {},
     "output_type": "execute_result"
    }
   ],
   "source": [
    "dataset = load_dataset(\"knkarthick/samsum\")\n",
    "dataset"
   ]
  },
  {
   "cell_type": "markdown",
   "id": "10e7920d-a41d-49f8-a80f-21f9c048fb21",
   "metadata": {},
   "source": [
    "### Preprocessing Methods"
   ]
  },
  {
   "cell_type": "code",
   "execution_count": 6,
   "id": "b155ac8b-b3b4-4aad-91f5-544897ba6f27",
   "metadata": {},
   "outputs": [
    {
     "data": {
      "text/plain": [
       "{'act': 'An Ethereum Developer',\n",
       " 'prompt': 'Imagine you are an experienced Ethereum developer tasked with creating a smart contract for a blockchain messenger. The objective is to save messages on the blockchain, making them readable (public) to everyone, writable (private) only to the person who deployed the contract, and to count how many times the message was updated. Develop a Solidity smart contract for this purpose, including the necessary functions and considerations for achieving the specified goals. Please provide the code and any relevant explanations to ensure a clear understanding of the implementation.'}"
      ]
     },
     "execution_count": 6,
     "metadata": {},
     "output_type": "execute_result"
    }
   ],
   "source": [
    "# Reload the original dataset\n",
    "dataset = load_dataset(\"fka/awesome-chatgpt-prompts\")\n",
    "dataset[\"train\"][0]"
   ]
  },
  {
   "cell_type": "code",
   "execution_count": 7,
   "id": "77799060-5f96-4ced-9a55-b950637fa991",
   "metadata": {},
   "outputs": [
    {
     "data": {
      "text/plain": [
       "Dataset({\n",
       "    features: ['act', 'prompt'],\n",
       "    num_rows: 100\n",
       "})"
      ]
     },
     "execution_count": 7,
     "metadata": {},
     "output_type": "execute_result"
    }
   ],
   "source": [
    "dataset = dataset[\"train\"].shuffle(seed=43).select(range(100))\n",
    "dataset"
   ]
  },
  {
   "cell_type": "code",
   "execution_count": 8,
   "id": "cbc54407-8087-43fb-b25c-6a68f133e8ff",
   "metadata": {},
   "outputs": [
    {
     "data": {
      "text/plain": [
       "DatasetDict({\n",
       "    train: Dataset({\n",
       "        features: ['act', 'prompt'],\n",
       "        num_rows: 80\n",
       "    })\n",
       "    test: Dataset({\n",
       "        features: ['act', 'prompt'],\n",
       "        num_rows: 20\n",
       "    })\n",
       "})"
      ]
     },
     "execution_count": 8,
     "metadata": {},
     "output_type": "execute_result"
    }
   ],
   "source": [
    "# Create test dataset\n",
    "dataset = dataset.train_test_split(train_size=0.8, seed=49)\n",
    "dataset"
   ]
  },
  {
   "cell_type": "markdown",
   "id": "ae13e974-523b-4c9d-8859-6aced8d5ca2f",
   "metadata": {},
   "source": [
    "**Let's make our own dataset** from the `reuters21578/*.sgm` files. This was downloaded from https://archive.ics.uci.edu/ml/machine-learning-databases/reuters21578-mld/reuters21578.tar.gz"
   ]
  },
  {
   "cell_type": "code",
   "execution_count": 32,
   "id": "e5bba36a-0e3f-4c50-9a54-9f6dbc334a93",
   "metadata": {},
   "outputs": [
    {
     "name": "stdout",
     "output_type": "stream",
     "text": [
      "Articles: 20,841\n"
     ]
    },
    {
     "data": {
      "text/plain": [
       "{'title': 'FAIRFAX SAYS HIGHER TAX HITS FIRST HALF EARNINGS',\n",
       " 'body': 'Media group John Fairfax Ltd <FFXA.S>\\nsaid that its flat first half net profit partly reflected the\\nimpact of changes in the Australian tax system.\\n    Fairfax earlier reported net earnings edged up 2.3 pct to\\n25.94 mln dlrs in the 26 weeks ended December 28 from 25.35 mln\\na year earlier although pre-tax profit rose 9.1 pct to 48.30\\nmln from 44.29 mln.\\n    Net would have risen 10.1 pct but for the increase in\\ncompany tax to 49 pct from 46 and the imposition of the tax on\\nfringe benefits, paid by employers and not the recipients, the\\ncompany said in a statement.\\n    Fairfax also pointed to the cyclical downturn in revenue\\ngrowth in the television industry as another reason for the\\nflat first half earnings.\\n    It said it considered the result satisfactory in view of\\nthese factors.\\n    Fairfax said its flagship dailies, The Sydney Morning\\nHerald and the Melbourne Age, boosted advertising volume, as\\ndid the Australian Financial Review, and posted extremely\\nsatisfactory performances. Magazines also performed strongly.\\n    But an 8.9 pct rise in television costs outweighed a 4.0\\npct rise in revenue, it said.\\n    Fairfax said a fall in net interest also contributed to net\\nearnings because group borrowings were reduced following the\\nreceipt of a 96.11 mln dlr capital dividend from <Australian\\nAssociated Press Pty Ltd> (AAP) after the sale of AAP\\'s \"B\"\\nshares in Reuters Holdings Plc <RTRS.L>.\\n    This accounted for the 89.32 mln dlr extraordinary profit.\\n    Fairfax said it is too early to predict results for the\\nfull year. Increased borrowings after the recent 320 mln dlr\\nacquisition of the HSV-Seven television station in Melbourne\\nwill hit earnings but networking with the Channel Sevens in\\nSydney and Brisbane will produce some offsetting cost savings.\\n REUTER\\n\\x03'}"
      ]
     },
     "execution_count": 32,
     "metadata": {},
     "output_type": "execute_result"
    }
   ],
   "source": [
    "## Get the title and body of all the articles\n",
    "import glob\n",
    "from bs4 import BeautifulSoup\n",
    "\n",
    "dir_path = \"./reuters21578/\"\n",
    "files = os.path.join(dir_path, \"*.sgm\")\n",
    "articles = []\n",
    "\n",
    "for filepath in glob.glob(files):\n",
    "    with open(filepath, \"r\", encoding=\"latin-1\") as file:\n",
    "        soup = BeautifulSoup(file, \"html.parser\")\n",
    "\n",
    "    for r in soup.find_all(\"reuters\"):\n",
    "        title = r.title.string if r.title else \"\"\n",
    "        body = r.body.string if r.body else \"\"\n",
    "\n",
    "        ## Clean up the results\n",
    "        if title == \"\" and body == \"\":\n",
    "            continue\n",
    "        \n",
    "        articles.append({\n",
    "            \"title\": title,\n",
    "            \"body\": body\n",
    "        })\n",
    "\n",
    "print(f\"Articles: {len(articles):,}\")\n",
    "articles[0]"
   ]
  },
  {
   "cell_type": "code",
   "execution_count": 40,
   "id": "601b50d5-5367-4330-9912-bcf1f506fc7e",
   "metadata": {},
   "outputs": [
    {
     "name": "stdout",
     "output_type": "stream",
     "text": [
      "Training dataset: 16,672\n",
      "Validation dataset: 2,084\n",
      "Test dataset: 2,085\n",
      "Wrote train.jsonl\n",
      "Wrote valid.jsonl\n",
      "Wrote test.jsonl\n"
     ]
    }
   ],
   "source": [
    "## Now let's make our own dataset from these articles\n",
    "import json\n",
    "\n",
    "TRAIN_PCT = 0.8\n",
    "VALID_PCT = 0.1\n",
    "\n",
    "TRAIN_NUM = int(len(articles) * TRAIN_PCT)\n",
    "VALID_NUM = int(len(articles) * (TRAIN_PCT + VALID_PCT))\n",
    "\n",
    "# Split the data\n",
    "train_articles = articles[:TRAIN_NUM]\n",
    "print(f\"Training dataset: {len(train_articles):,}\")\n",
    "\n",
    "valid_articles = articles[TRAIN_NUM:VALID_NUM]\n",
    "print(f\"Validation dataset: {len(valid_articles):,}\")\n",
    "\n",
    "test_articles = articles[VALID_NUM:]\n",
    "print(f\"Test dataset: {len(test_articles):,}\")\n",
    "\n",
    "def save_as_jsonl(data, filename):\n",
    "    with open(filename, \"w\") as file:\n",
    "        for article in data:\n",
    "            file.write(json.dumps(article) + \"\\n\")\n",
    "    print(f\"Wrote {filename}\")\n",
    "\n",
    "save_as_jsonl(train_articles, \"train.jsonl\")\n",
    "save_as_jsonl(valid_articles, \"valid.jsonl\")\n",
    "save_as_jsonl(test_articles, \"test.jsonl\")"
   ]
  },
  {
   "cell_type": "code",
   "execution_count": 41,
   "id": "b4417682-34b8-4711-ab41-432fbc0e70ec",
   "metadata": {},
   "outputs": [
    {
     "data": {
      "application/vnd.jupyter.widget-view+json": {
       "model_id": "377c327a070944e0b7810c12f4c47f02",
       "version_major": 2,
       "version_minor": 0
      },
      "text/plain": [
       "Generating train split: 0 examples [00:00, ? examples/s]"
      ]
     },
     "metadata": {},
     "output_type": "display_data"
    },
    {
     "data": {
      "application/vnd.jupyter.widget-view+json": {
       "model_id": "c9809ce5a086444fa48ff413555eb07d",
       "version_major": 2,
       "version_minor": 0
      },
      "text/plain": [
       "Generating validation split: 0 examples [00:00, ? examples/s]"
      ]
     },
     "metadata": {},
     "output_type": "display_data"
    },
    {
     "data": {
      "application/vnd.jupyter.widget-view+json": {
       "model_id": "2509b9343b4443bda75fc9456e6a419a",
       "version_major": 2,
       "version_minor": 0
      },
      "text/plain": [
       "Generating test split: 0 examples [00:00, ? examples/s]"
      ]
     },
     "metadata": {},
     "output_type": "display_data"
    },
    {
     "data": {
      "text/plain": [
       "DatasetDict({\n",
       "    train: Dataset({\n",
       "        features: ['title', 'body'],\n",
       "        num_rows: 16672\n",
       "    })\n",
       "    validation: Dataset({\n",
       "        features: ['title', 'body'],\n",
       "        num_rows: 2084\n",
       "    })\n",
       "    test: Dataset({\n",
       "        features: ['title', 'body'],\n",
       "        num_rows: 2085\n",
       "    })\n",
       "})"
      ]
     },
     "execution_count": 41,
     "metadata": {},
     "output_type": "execute_result"
    }
   ],
   "source": [
    "## Load them as a dataset\n",
    "data_files = {\n",
    "    \"train\": \"train.jsonl\",\n",
    "    \"validation\": \"valid.jsonl\",\n",
    "    \"test\": \"test.jsonl\"\n",
    "}\n",
    "dataset = load_dataset(\"json\", data_files=data_files)\n",
    "dataset"
   ]
  },
  {
   "cell_type": "code",
   "execution_count": 45,
   "id": "1984363c-5c49-48d8-8639-40c7a1d67bda",
   "metadata": {},
   "outputs": [
    {
     "data": {
      "application/vnd.jupyter.widget-view+json": {
       "model_id": "38db6c96e7ac4179a13530ee777a9a4f",
       "version_major": 2,
       "version_minor": 0
      },
      "text/plain": [
       "VBox(children=(HTML(value='<center> <img\\nsrc=https://huggingface.co/front/assets/huggingface_logo-noborder.sv…"
      ]
     },
     "metadata": {},
     "output_type": "display_data"
    }
   ],
   "source": [
    "## Login to Hugging Face\n",
    "from huggingface_hub import notebook_login\n",
    "notebook_login()"
   ]
  },
  {
   "cell_type": "code",
   "execution_count": 46,
   "id": "a800f95c-abc3-4d92-acee-2be759e825b7",
   "metadata": {},
   "outputs": [
    {
     "data": {
      "application/vnd.jupyter.widget-view+json": {
       "model_id": "2ca34c59abd641a1bdd1cf91c3418bbb",
       "version_major": 2,
       "version_minor": 0
      },
      "text/plain": [
       "Uploading the dataset shards:   0%|          | 0/1 [00:00<?, ?it/s]"
      ]
     },
     "metadata": {},
     "output_type": "display_data"
    },
    {
     "data": {
      "application/vnd.jupyter.widget-view+json": {
       "model_id": "91e06774853f4fc2b9704a8400bb99ca",
       "version_major": 2,
       "version_minor": 0
      },
      "text/plain": [
       "Creating parquet from Arrow format:   0%|          | 0/17 [00:00<?, ?ba/s]"
      ]
     },
     "metadata": {},
     "output_type": "display_data"
    },
    {
     "data": {
      "application/vnd.jupyter.widget-view+json": {
       "model_id": "78e8b15a2d7e4df7897a0b6d7ef5a5c3",
       "version_major": 2,
       "version_minor": 0
      },
      "text/plain": [
       "Processing Files (0 / 0)                : |          |  0.00B /  0.00B            "
      ]
     },
     "metadata": {},
     "output_type": "display_data"
    },
    {
     "data": {
      "application/vnd.jupyter.widget-view+json": {
       "model_id": "dba46d5aea634d8baa4949c75371ca7c",
       "version_major": 2,
       "version_minor": 0
      },
      "text/plain": [
       "New Data Upload                         : |          |  0.00B /  0.00B            "
      ]
     },
     "metadata": {},
     "output_type": "display_data"
    },
    {
     "data": {
      "application/vnd.jupyter.widget-view+json": {
       "model_id": "e27f5b8ae0af43099122df60ff9a916f",
       "version_major": 2,
       "version_minor": 0
      },
      "text/plain": [
       "                                        : 100%|##########| 7.85MB / 7.85MB            "
      ]
     },
     "metadata": {},
     "output_type": "display_data"
    },
    {
     "data": {
      "application/vnd.jupyter.widget-view+json": {
       "model_id": "0948315aec66447f8419548883a4d88a",
       "version_major": 2,
       "version_minor": 0
      },
      "text/plain": [
       "Uploading the dataset shards:   0%|          | 0/1 [00:00<?, ?it/s]"
      ]
     },
     "metadata": {},
     "output_type": "display_data"
    },
    {
     "data": {
      "application/vnd.jupyter.widget-view+json": {
       "model_id": "a12cca56f9664544981653f62692044f",
       "version_major": 2,
       "version_minor": 0
      },
      "text/plain": [
       "Creating parquet from Arrow format:   0%|          | 0/3 [00:00<?, ?ba/s]"
      ]
     },
     "metadata": {},
     "output_type": "display_data"
    },
    {
     "data": {
      "application/vnd.jupyter.widget-view+json": {
       "model_id": "163175202c0e49b5a6766c6f5af5246b",
       "version_major": 2,
       "version_minor": 0
      },
      "text/plain": [
       "Processing Files (0 / 0)                : |          |  0.00B /  0.00B            "
      ]
     },
     "metadata": {},
     "output_type": "display_data"
    },
    {
     "data": {
      "application/vnd.jupyter.widget-view+json": {
       "model_id": "353a3750b34d48cbb4d049c619c249a4",
       "version_major": 2,
       "version_minor": 0
      },
      "text/plain": [
       "New Data Upload                         : |          |  0.00B /  0.00B            "
      ]
     },
     "metadata": {},
     "output_type": "display_data"
    },
    {
     "data": {
      "application/vnd.jupyter.widget-view+json": {
       "model_id": "f3c1a1c437884ddca97aea7b81baaf09",
       "version_major": 2,
       "version_minor": 0
      },
      "text/plain": [
       "                                        : 100%|##########| 1.05MB / 1.05MB            "
      ]
     },
     "metadata": {},
     "output_type": "display_data"
    },
    {
     "data": {
      "application/vnd.jupyter.widget-view+json": {
       "model_id": "94c6c466318742a0901892ce68fe63fe",
       "version_major": 2,
       "version_minor": 0
      },
      "text/plain": [
       "Uploading the dataset shards:   0%|          | 0/1 [00:00<?, ?it/s]"
      ]
     },
     "metadata": {},
     "output_type": "display_data"
    },
    {
     "data": {
      "application/vnd.jupyter.widget-view+json": {
       "model_id": "eda928486c0148048acf4cf34c4d48c4",
       "version_major": 2,
       "version_minor": 0
      },
      "text/plain": [
       "Creating parquet from Arrow format:   0%|          | 0/3 [00:00<?, ?ba/s]"
      ]
     },
     "metadata": {},
     "output_type": "display_data"
    },
    {
     "data": {
      "application/vnd.jupyter.widget-view+json": {
       "model_id": "bf151b085200450888e41884529e0b7d",
       "version_major": 2,
       "version_minor": 0
      },
      "text/plain": [
       "Processing Files (0 / 0)                : |          |  0.00B /  0.00B            "
      ]
     },
     "metadata": {},
     "output_type": "display_data"
    },
    {
     "data": {
      "application/vnd.jupyter.widget-view+json": {
       "model_id": "59127bb30b6f48dea94d96983be3be13",
       "version_major": 2,
       "version_minor": 0
      },
      "text/plain": [
       "New Data Upload                         : |          |  0.00B /  0.00B            "
      ]
     },
     "metadata": {},
     "output_type": "display_data"
    },
    {
     "data": {
      "application/vnd.jupyter.widget-view+json": {
       "model_id": "51cf99467fba45069a316bb5dcee2f51",
       "version_major": 2,
       "version_minor": 0
      },
      "text/plain": [
       "                                        : 100%|##########| 1.01MB / 1.01MB            "
      ]
     },
     "metadata": {},
     "output_type": "display_data"
    },
    {
     "data": {
      "application/vnd.jupyter.widget-view+json": {
       "model_id": "0d9b9c9991144e119c09bd25afa1b19f",
       "version_major": 2,
       "version_minor": 0
      },
      "text/plain": [
       "README.md:   0%|          | 0.00/527 [00:00<?, ?B/s]"
      ]
     },
     "metadata": {},
     "output_type": "display_data"
    },
    {
     "name": "stderr",
     "output_type": "stream",
     "text": [
      "No files have been modified since last commit. Skipping to prevent empty commit.\n"
     ]
    },
    {
     "data": {
      "text/plain": [
       "CommitInfo(commit_url='https://huggingface.co/datasets/shayharding/reuters-articles/commit/5cf5cd354c19888e5adf77475053eeecfd0d99c7', commit_message='Upload dataset', commit_description='', oid='5cf5cd354c19888e5adf77475053eeecfd0d99c7', pr_url=None, repo_url=RepoUrl('https://huggingface.co/datasets/shayharding/reuters-articles', endpoint='https://huggingface.co', repo_type='dataset', repo_id='shayharding/reuters-articles'), pr_revision=None, pr_num=None)"
      ]
     },
     "execution_count": 46,
     "metadata": {},
     "output_type": "execute_result"
    }
   ],
   "source": [
    "## Upload dataset to Hugging Face\n",
    "dataset.push_to_hub(\"reuters-articles\")"
   ]
  }
 ],
 "metadata": {
  "kernelspec": {
   "display_name": "Python 3 (ipykernel)",
   "language": "python",
   "name": "python3"
  },
  "language_info": {
   "codemirror_mode": {
    "name": "ipython",
    "version": 3
   },
   "file_extension": ".py",
   "mimetype": "text/x-python",
   "name": "python",
   "nbconvert_exporter": "python",
   "pygments_lexer": "ipython3",
   "version": "3.12.11"
  }
 },
 "nbformat": 4,
 "nbformat_minor": 5
}
