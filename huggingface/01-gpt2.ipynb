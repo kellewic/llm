{
 "cells": [
  {
   "cell_type": "markdown",
   "id": "ed2252f4-a7b8-458b-9f31-b56088718574",
   "metadata": {},
   "source": [
    "**Use Hugging Face transformers to load GPT2 and do basic text generation**"
   ]
  },
  {
   "cell_type": "code",
   "execution_count": null,
   "id": "67bd1ce4-3b03-4105-ba83-11e6fe5ec573",
   "metadata": {},
   "outputs": [],
   "source": [
    "from transformers import AutoModelForCausalLM, AutoTokenizer\n",
    "MODEL=\"gpt2\"\n",
    "tokenizer = AutoTokenizer.from_pretrained(MODEL)"
   ]
  },
  {
   "cell_type": "code",
   "execution_count": null,
   "id": "96767a2d-cc0d-40da-baf9-9626df706695",
   "metadata": {},
   "outputs": [],
   "source": [
    "model = AutoModelForCausalLM.from_pretrained(MODEL, pad_token_id=tokenizer.eos_token_id)\n",
    "model_inputs = tokenizer(\"I like to walk in the mornings\", return_tensors='pt')\n",
    "\n",
    "greedy_output = model.generate(**model_inputs, max_new_tokens=40, pad_token_id=tokenizer.eos_token_id)\n",
    "print(\"Ouptut:\\n\" + 100 * '-')\n",
    "print(tokenizer.decode(greedy_output[0], skip_special_tokens=True))"
   ]
  },
  {
   "cell_type": "markdown",
   "id": "cb9f4017-d61c-49fa-9050-fa207eeb1358",
   "metadata": {},
   "source": [
    "**Now let's do it via Hugging Face pipeline**"
   ]
  },
  {
   "cell_type": "code",
   "execution_count": null,
   "id": "4bbcc820-937f-45a2-961b-a2a60a403334",
   "metadata": {},
   "outputs": [],
   "source": [
    "import transformers\n",
    "from transformers import pipeline\n",
    "transformers.logging.set_verbosity_error()\n",
    "pipe = pipeline(\"text-generation\", model=MODEL, device=-1)\n",
    "pipe(\"I like to walk in the mornings\", max_new_tokens=40, num_return_sequences=1, pad_token_id=tokenizer.eos_token_id)"
   ]
  }
 ],
 "metadata": {
  "kernelspec": {
   "display_name": "Python 3 (ipykernel)",
   "language": "python",
   "name": "python3"
  },
  "language_info": {
   "codemirror_mode": {
    "name": "ipython",
    "version": 3
   },
   "file_extension": ".py",
   "mimetype": "text/x-python",
   "name": "python",
   "nbconvert_exporter": "python",
   "pygments_lexer": "ipython3",
   "version": "3.12.11"
  }
 },
 "nbformat": 4,
 "nbformat_minor": 5
}
